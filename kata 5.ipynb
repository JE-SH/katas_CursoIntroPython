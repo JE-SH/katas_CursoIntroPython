{
 "cells": [
  {
   "cell_type": "markdown",
   "metadata": {},
   "source": [
    "# Kata 5\n",
    "## Ejercicio1 - Utilizar operadores aritméticos\n",
    "Exploremos cómo podemos crear un programa que pueda calcular la distancia entre dos planetas. Comenzaremos usando dos distancias de planetas: Tierra (149.597.870 km) y Júpiter (778.547.200 km)."
   ]
  },
  {
   "cell_type": "code",
   "execution_count": null,
   "metadata": {},
   "outputs": [],
   "source": [
    "tierra=float(149597870) #km\n",
    "jupiter=float(778547200)#km\n",
    "\n",
    "#Realizar la operación \n",
    "distanciakm=abs(tierra-jupiter)\n",
    "#convirtiendo km a millas\n",
    "distanciamillas=distanciakm*0.621\n",
    "\n",
    "print(distanciakm)\n",
    "print(distanciamillas)"
   ]
  },
  {
   "cell_type": "markdown",
   "metadata": {},
   "source": [
    "## Ejercicio 2: convierte cadenas en números y usa valores absolutos\n",
    "\n",
    "**Lee los valores**<br>\n",
    "Usando input, agrega el código para leer la distancia del sol para cada planeta, considerando 2 planetas.<br><br>\n",
    "**Convertir a número**<br>\n",
    "Debido a que input devuelve valores de cadena, necesitamos convertirlos en números."
   ]
  },
  {
   "cell_type": "code",
   "execution_count": 17,
   "metadata": {},
   "outputs": [],
   "source": [
    "planeta1=float(input('Distancia planeta 1'))\n",
    "planeta2=float(input('Distancia planeta 2'))\n"
   ]
  },
  {
   "cell_type": "markdown",
   "metadata": {},
   "source": [
    "**Realizar el cálculo y convertir a valor absoluto**<br>\n",
    "Con los valores almacenados como números, ahora puedes agregar el código para realizar el cálculo, restando el primer planeta del segundo. Debido a que el segundo planeta podría ser un número mayor, usarás abs para convertirlo a un valor absoluto. También agregarás el código para mostrar el resultado en millas multiplicando la distancia del kilómetro por 0.621"
   ]
  },
  {
   "cell_type": "code",
   "execution_count": 19,
   "metadata": {},
   "outputs": [],
   "source": [
    "distanciam =abs(planeta1-planeta2)*0.621\n",
    "print(distanciam)"
   ]
  }
 ],
 "metadata": {
  "interpreter": {
   "hash": "11300582b1f44233ee7eb99ba0dafa9747957641c27145205ce2e092f4798de2"
  },
  "kernelspec": {
   "display_name": "Python 3.10.2 64-bit",
   "language": "python",
   "name": "python3"
  },
  "language_info": {
   "codemirror_mode": {
    "name": "ipython",
    "version": 3
   },
   "file_extension": ".py",
   "mimetype": "text/x-python",
   "name": "python",
   "nbconvert_exporter": "python",
   "pygments_lexer": "ipython3",
   "version": "3.10.2"
  },
  "orig_nbformat": 4
 },
 "nbformat": 4,
 "nbformat_minor": 2
}
