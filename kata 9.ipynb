{
 "cells": [
  {
   "cell_type": "markdown",
   "metadata": {},
   "source": [
    "# Kata 9\n",
    "\n",
    "## Ejercicio 1: Trabajar con argumentos en funciones\n",
    "\n",
    "Los argumentos requeridos en las funciones se utilizan cuando las funciones necesitan que esos argumentos funcionen correctamente. En este ejercicio, construirás un informe de combustible que requiere información de varias ubicaciones de combustible en todo el cohete.<br>\n",
    "Comienza por crear una función que necesite tres lecturas de combustible y devuelva un informe:"
   ]
  },
  {
   "cell_type": "code",
   "execution_count": 10,
   "metadata": {},
   "outputs": [
    {
     "name": "stdout",
     "output_type": "stream",
     "text": [
      "Fuel report: \n",
      "Tank 1: 15%\n",
      "Tank 2: 12%\n",
      "Tank 3: 85%\n",
      "Average: 37.333333333333336\n"
     ]
    }
   ],
   "source": [
    "# Función para leer 3 tanques de combustible y muestre el promedio\n",
    "def read_tanks(tank1,tank2,tank3):\n",
    "    average = (tank1+tank2+tank3)/3\n",
    "    return f'Fuel report: \\nTank 1: {tank1}%\\nTank 2: {tank2}%\\nTank 3: {tank3}%\\nAverage: {average}'\n",
    "\n",
    "# Llamamos a la función que genera el reporte print(funcion(tanque1, tanque2, tanque3))\n",
    "print(read_tanks(15,12,85))\n",
    "\n"
   ]
  },
  {
   "cell_type": "code",
   "execution_count": 13,
   "metadata": {},
   "outputs": [
    {
     "data": {
      "text/plain": [
       "82.0"
      ]
     },
     "execution_count": 13,
     "metadata": {},
     "output_type": "execute_result"
    }
   ],
   "source": [
    "# Función promedio \n",
    "def average(*values):\n",
    "    total = sum(values)\n",
    "    number_of_items = len(values)\n",
    "    return total / number_of_items\n",
    "\n",
    "# Test the averaging function with a list of integers:\n",
    "average(80, 85, 81) "
   ]
  },
  {
   "cell_type": "code",
   "execution_count": null,
   "metadata": {},
   "outputs": [],
   "source": [
    "# Actualiza la función\n",
    "def new_read_tanks(tank1,tank2,tank3):\n",
    "    return f'Fuel report: \\nTank 1: {tank1}%\\nTank 2: {tank2}%\\nTank 3: {tank3}%\\nAverage: {average(tank1,tank2,tank3)}'\n",
    "\n",
    "# Llamamos a la función que genera el reporte print(funcion(tanque1, tanque2, tanque3))\n",
    "print(read_tanks(15,12,85))"
   ]
  },
  {
   "cell_type": "markdown",
   "metadata": {},
   "source": [
    "## Ejercicio 2: Trabajo con argumentos de palabra clave\n",
    "En este ejercicio, construirás un informe de cohete que requiere varias piezas de información, como el tiempo hasta el destino, el combustible a la izquierda y el nombre del destino. Comienza por crear una función que creará un informe preciso de la misión. <br>\n",
    "Considera hora de prelanzamiento, tiempo de vuelo, destino, tanque externo y tanque interno"
   ]
  },
  {
   "cell_type": "code",
   "execution_count": 4,
   "metadata": {},
   "outputs": [],
   "source": [
    "#Modificación de reporte\n",
    "def report(prelaunchT,flightT,destination,external_tank,internal_tank):\n",
    "    return f\"\"\"\n",
    "    Rocket report.\n",
    "    Destination: {destination}\n",
    "    Total travel time: {(prelaunchT+flightT)} minutes\n",
    "    Total fuel left: {external_tank+internal_tank} gallons\n",
    "    \"\"\""
   ]
  },
  {
   "cell_type": "code",
   "execution_count": 5,
   "metadata": {},
   "outputs": [
    {
     "name": "stdout",
     "output_type": "stream",
     "text": [
      "\n",
      "    Rocket report.\n",
      "    Destination: Marte\n",
      "    Total travel time: 44 minutes\n",
      "    Total fuel left: 642 gallons\n",
      "    \n"
     ]
    }
   ],
   "source": [
    "print(report(23,21,\"Mars\",156,486))"
   ]
  },
  {
   "cell_type": "markdown",
   "metadata": {},
   "source": [
    "La función es problemática porque no se puede adaptar para minutos adicionales o tanques adicionales de combustible. Hazlo más flexible permitiendo cualquier número de pasos basados en el tiempo y cualquier número de tanques. En lugar de usar *args y **kwargs, aprovecha el hecho de que puedes usar cualquier nombre que desees. Asegurate que la función sea más legible mediante el uso de nombres de variables que están asociados con las entradas, como *minutes y **fuel_reservoirs:"
   ]
  },
  {
   "cell_type": "markdown",
   "metadata": {},
   "source": [
    "##### Argumentos de variable\n",
    "Los argumentos en las funciones son necesarios. Pero cuando se usan argumentos de variable, la función permite pasar cualquier número de argumentos (incluido 0). La sintaxis para usar argumentos de variable es agregar un asterisco único como prefijo (*arg) antes del nombre del argumento.\n",
    "##### Argumentos de palabra clave variable\n",
    "Para que una función acepte cualquier número de argumentos de palabra clave, debe usar una sintaxis similar. En este caso, se requiere un asterisco doble (**args):"
   ]
  },
  {
   "cell_type": "code",
   "execution_count": 47,
   "metadata": {},
   "outputs": [
    {
     "name": "stdout",
     "output_type": "stream",
     "text": [
      "Rocket report:\n",
      "   Destination: Moon\n",
      "   Total travel time: 410 minutes\n",
      "   Total fuel left: 1894 gallons\n",
      "    \n"
     ]
    }
   ],
   "source": [
    "def new_report(destination,*times,**fuel_tanks):\n",
    "    return f\"\"\"Rocket report:\n",
    "   Destination: {(destination)}\n",
    "   Total travel time: {sum(times)} minutes\n",
    "   Total fuel left: {sum(fuel_tanks.values())} gallons\n",
    "    \"\"\"\n",
    "\n",
    "print(new_report('Moon',156,186,68,left=156,right=1696,center=42))\n"
   ]
  },
  {
   "cell_type": "code",
   "execution_count": 58,
   "metadata": {},
   "outputs": [
    {
     "name": "stdout",
     "output_type": "stream",
     "text": [
      "\n",
      "   Rocket report:\n",
      "\n",
      "   Destination: Moon\n",
      "   Total travel time: 410 minutes\n",
      "   Fuel left from tanks:\n",
      "   \tleft: 156\n",
      "\tright: 1696\n",
      "\tcenter: 42\n",
      "\tTotal fuel left: 1894 gallons\n"
     ]
    }
   ],
   "source": [
    "def new_report_Wtanks(destination,*times,**fuel_tanks):\n",
    "   rep=f\"\"\"\n",
    "   Rocket report:\n",
    "\n",
    "   Destination: {(destination)}\n",
    "   Total travel time: {sum(times)} minutes\n",
    "   Fuel left from tanks:\n",
    "   \"\"\"\n",
    "   for title, name in fuel_tanks.items():\n",
    "        rep+=(f'\\t{title}: {name}\\n')\n",
    "   rep+=\"\\tTotal fuel left: \"+str(sum(fuel_tanks.values()))+\" gallons\"\n",
    "   return rep\n",
    "\n",
    "print(new_report_Wtanks('Moon',156,186,68,left=156,right=1696,center=42))\n"
   ]
  }
 ],
 "metadata": {
  "interpreter": {
   "hash": "11300582b1f44233ee7eb99ba0dafa9747957641c27145205ce2e092f4798de2"
  },
  "kernelspec": {
   "display_name": "Python 3.10.2 64-bit",
   "language": "python",
   "name": "python3"
  },
  "language_info": {
   "codemirror_mode": {
    "name": "ipython",
    "version": 3
   },
   "file_extension": ".py",
   "mimetype": "text/x-python",
   "name": "python",
   "nbconvert_exporter": "python",
   "pygments_lexer": "ipython3",
   "version": "3.10.2"
  },
  "orig_nbformat": 4
 },
 "nbformat": 4,
 "nbformat_minor": 2
}
