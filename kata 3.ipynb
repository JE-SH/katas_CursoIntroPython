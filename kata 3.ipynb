{
 "cells": [
  {
   "cell_type": "markdown",
   "metadata": {},
   "source": [
    "# Kata 3\n",
    "\n",
    "## Un asteroide se acerca, y viaja a una velocidad de 49 km/s.\n",
    "Para este ejercicio, escribirás una lógica condicional que imprima una advertencia si un asteroide se acerca a la Tierra demasiado rápido. La velocidad del asteroide varía dependiendo de lo cerca que esté del sol, y cualquier velocidad superior a 25 kilómetros por segundo (km/s) merece una advertencia"
   ]
  },
  {
   "cell_type": "code",
   "execution_count": 2,
   "metadata": {},
   "outputs": [
    {
     "name": "stdout",
     "output_type": "stream",
     "text": [
      "ADVERTENCIA: Un asteroide se acerca a la Tiera a gran velocidad\n"
     ]
    }
   ],
   "source": [
    "asteroidspeed = 49\n",
    "alarmspeed = 25\n",
    "\n",
    "if asteroidspeed > alarmspeed:\n",
    "    print(\"ADVERTENCIA: Un asteroide se acerca a la Tiera a gran velocidad\")\n",
    "else:\n",
    "    print(\"Todo va de perlas\")\n"
   ]
  },
  {
   "cell_type": "markdown",
   "metadata": {},
   "source": [
    "## Busca un asteroide en el cielo!\n",
    "Un asteroide se dirige a una velocidad de 19km/s.\n",
    "(Si un asteroide entra a la Tierra a la velocidad mayor o igual a 20km/s, a veces produce un rayo de luz visible)"
   ]
  },
  {
   "cell_type": "code",
   "execution_count": 3,
   "metadata": {},
   "outputs": [
    {
     "name": "stdout",
     "output_type": "stream",
     "text": [
      "Aviso. Hay un asteroide en la atmosfera, ayudanos a encontrarlo\n"
     ]
    }
   ],
   "source": [
    "asteroidspeed = 19\n",
    "visibility = 20\n",
    "\n",
    "if asteroidspeed >= visibility:\n",
    "    print(\"ATENCIÓN. Busca un asteroide en el cielo, se puede ver facilmente\")\n",
    "else:\n",
    "    print(\"Aviso. Hay un asteroide en la atmosfera, ayudanos a encontrarlo\")\n"
   ]
  },
  {
   "cell_type": "markdown",
   "metadata": {},
   "source": [
    "## Nuevo sistema de advertencias\n",
    "La velocidad del asteroide varía de la distancia con el Sol, y en cualquier velocidad superior que 25km/s merece advertencia.<br>\n",
    "Si un asteroide entra a la atmósfera de la Tierra a la velocidad mayor o igual a 20km/s, a veces produce un rayo de luz visible).<br>\n",
    "Los asteroides de menos que 25 metros se quemarán a medida que entren a la atmósfera.<br>\n",
    "Si una pieza de asteroide mayor que (>) 25m pero menor que (<) 1000m golpea la Tierra hará mucho daño.<br>\n"
   ]
  },
  {
   "cell_type": "code",
   "execution_count": 9,
   "metadata": {},
   "outputs": [
    {
     "name": "stdout",
     "output_type": "stream",
     "text": [
      "ADVERTENCIA: Un asteroide se acerca a la Tiera a gran velocidad\n",
      "ATENCIÓN. Busca un asteroide en el cielo, se puede ver facilmente\n",
      "PELIGRO DE IMPACTO!\n"
     ]
    }
   ],
   "source": [
    "asteroidspeed = 26\n",
    "asteroidsize = 26\n",
    "\n",
    "if asteroidspeed > alarmspeed:\n",
    "    print(\"ADVERTENCIA: Un asteroide se acerca a la Tiera a gran velocidad\")\n",
    "if (asteroidspeed >= visibility) and (asteroidsize<=25):\n",
    "    print(\"ATENCIÓN. Busca un asteroide en el cielo, se puede ver facilmente\")\n",
    "    print(\"No hay peligro de impacto\")\n",
    "elif (asteroidspeed >= visibility) and asteroidsize>25 and asteroidsize<1000:\n",
    "    print(\"ATENCIÓN. Busca un asteroide en el cielo, se puede ver facilmente\")\n",
    "    print(\"PELIGRO DE IMPACTO!\")\n",
    "else:\n",
    "    print(\"Aviso. Hay un asteroide en la atmosfera, ayudanos a encontrarlo\")\n",
    "    print(\"No hay peligro de impacto\")\n"
   ]
  }
 ],
 "metadata": {
  "interpreter": {
   "hash": "b3ba2566441a7c06988d0923437866b63cedc61552a5af99d1f4fb67d367b25f"
  },
  "kernelspec": {
   "display_name": "Python 3.9.7 ('base')",
   "language": "python",
   "name": "python3"
  },
  "language_info": {
   "codemirror_mode": {
    "name": "ipython",
    "version": 3
   },
   "file_extension": ".py",
   "mimetype": "text/x-python",
   "name": "python",
   "nbconvert_exporter": "python",
   "pygments_lexer": "ipython3",
   "version": "3.9.7"
  },
  "orig_nbformat": 4
 },
 "nbformat": 4,
 "nbformat_minor": 2
}
